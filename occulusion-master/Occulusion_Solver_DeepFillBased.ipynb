{
  "nbformat": 4,
  "nbformat_minor": 0,
  "metadata": {
    "colab": {
      "provenance": []
    },
    "kernelspec": {
      "name": "python3",
      "display_name": "Python 3"
    },
    "language_info": {
      "name": "python"
    },
    "widgets": {
      "application/vnd.jupyter.widget-state+json": {
        "4aefa0f23666408c9aa567200a4c099e": {
          "model_module": "@jupyter-widgets/controls",
          "model_name": "HBoxModel",
          "model_module_version": "1.5.0",
          "state": {
            "_dom_classes": [],
            "_model_module": "@jupyter-widgets/controls",
            "_model_module_version": "1.5.0",
            "_model_name": "HBoxModel",
            "_view_count": null,
            "_view_module": "@jupyter-widgets/controls",
            "_view_module_version": "1.5.0",
            "_view_name": "HBoxView",
            "box_style": "",
            "children": [
              "IPY_MODEL_eb702acf9b9646ee88e2aa20f08765a0",
              "IPY_MODEL_f883a5484f1f4e60b938c9ab66679371",
              "IPY_MODEL_38962a31bb6748d98dee84f59646e982"
            ],
            "layout": "IPY_MODEL_17e56e8ffd4a43aaa6c11b45303b4218"
          }
        },
        "eb702acf9b9646ee88e2aa20f08765a0": {
          "model_module": "@jupyter-widgets/controls",
          "model_name": "ButtonModel",
          "model_module_version": "1.5.0",
          "state": {
            "_dom_classes": [],
            "_model_module": "@jupyter-widgets/controls",
            "_model_module_version": "1.5.0",
            "_model_name": "ButtonModel",
            "_view_count": null,
            "_view_module": "@jupyter-widgets/controls",
            "_view_module_version": "1.5.0",
            "_view_name": "ButtonView",
            "button_style": "",
            "description": "random free-form",
            "disabled": false,
            "icon": "",
            "layout": "IPY_MODEL_549d38d0184d47048763191f442c241e",
            "style": "IPY_MODEL_7a0bceea8155434c8133f0d2fce01b61",
            "tooltip": ""
          }
        },
        "f883a5484f1f4e60b938c9ab66679371": {
          "model_module": "@jupyter-widgets/controls",
          "model_name": "ButtonModel",
          "model_module_version": "1.5.0",
          "state": {
            "_dom_classes": [],
            "_model_module": "@jupyter-widgets/controls",
            "_model_module_version": "1.5.0",
            "_model_name": "ButtonModel",
            "_view_count": null,
            "_view_module": "@jupyter-widgets/controls",
            "_view_module_version": "1.5.0",
            "_view_name": "ButtonView",
            "button_style": "",
            "description": "random bbox",
            "disabled": false,
            "icon": "",
            "layout": "IPY_MODEL_4253e79a433344adb5b721c725c1a68e",
            "style": "IPY_MODEL_20a61003b60847148ba2d0842c4f0de7",
            "tooltip": ""
          }
        },
        "38962a31bb6748d98dee84f59646e982": {
          "model_module": "@jupyter-widgets/controls",
          "model_name": "ButtonModel",
          "model_module_version": "1.5.0",
          "state": {
            "_dom_classes": [],
            "_model_module": "@jupyter-widgets/controls",
            "_model_module_version": "1.5.0",
            "_model_name": "ButtonModel",
            "_view_count": null,
            "_view_module": "@jupyter-widgets/controls",
            "_view_module_version": "1.5.0",
            "_view_name": "ButtonView",
            "button_style": "",
            "description": "upload",
            "disabled": false,
            "icon": "",
            "layout": "IPY_MODEL_4f9d18462cab418fad693d9c7e405712",
            "style": "IPY_MODEL_f13d3cad53044588a88f732985acf3bd",
            "tooltip": ""
          }
        },
        "17e56e8ffd4a43aaa6c11b45303b4218": {
          "model_module": "@jupyter-widgets/base",
          "model_name": "LayoutModel",
          "model_module_version": "1.2.0",
          "state": {
            "_model_module": "@jupyter-widgets/base",
            "_model_module_version": "1.2.0",
            "_model_name": "LayoutModel",
            "_view_count": null,
            "_view_module": "@jupyter-widgets/base",
            "_view_module_version": "1.2.0",
            "_view_name": "LayoutView",
            "align_content": null,
            "align_items": null,
            "align_self": null,
            "border": null,
            "bottom": null,
            "display": null,
            "flex": null,
            "flex_flow": null,
            "grid_area": null,
            "grid_auto_columns": null,
            "grid_auto_flow": null,
            "grid_auto_rows": null,
            "grid_column": null,
            "grid_gap": null,
            "grid_row": null,
            "grid_template_areas": null,
            "grid_template_columns": null,
            "grid_template_rows": null,
            "height": null,
            "justify_content": null,
            "justify_items": null,
            "left": null,
            "margin": null,
            "max_height": null,
            "max_width": null,
            "min_height": null,
            "min_width": null,
            "object_fit": null,
            "object_position": null,
            "order": null,
            "overflow": null,
            "overflow_x": null,
            "overflow_y": null,
            "padding": null,
            "right": null,
            "top": null,
            "visibility": null,
            "width": null
          }
        },
        "549d38d0184d47048763191f442c241e": {
          "model_module": "@jupyter-widgets/base",
          "model_name": "LayoutModel",
          "model_module_version": "1.2.0",
          "state": {
            "_model_module": "@jupyter-widgets/base",
            "_model_module_version": "1.2.0",
            "_model_name": "LayoutModel",
            "_view_count": null,
            "_view_module": "@jupyter-widgets/base",
            "_view_module_version": "1.2.0",
            "_view_name": "LayoutView",
            "align_content": null,
            "align_items": null,
            "align_self": null,
            "border": null,
            "bottom": null,
            "display": null,
            "flex": null,
            "flex_flow": null,
            "grid_area": null,
            "grid_auto_columns": null,
            "grid_auto_flow": null,
            "grid_auto_rows": null,
            "grid_column": null,
            "grid_gap": null,
            "grid_row": null,
            "grid_template_areas": null,
            "grid_template_columns": null,
            "grid_template_rows": null,
            "height": null,
            "justify_content": null,
            "justify_items": null,
            "left": null,
            "margin": null,
            "max_height": null,
            "max_width": null,
            "min_height": null,
            "min_width": null,
            "object_fit": null,
            "object_position": null,
            "order": null,
            "overflow": null,
            "overflow_x": null,
            "overflow_y": null,
            "padding": null,
            "right": null,
            "top": null,
            "visibility": null,
            "width": null
          }
        },
        "7a0bceea8155434c8133f0d2fce01b61": {
          "model_module": "@jupyter-widgets/controls",
          "model_name": "ButtonStyleModel",
          "model_module_version": "1.5.0",
          "state": {
            "_model_module": "@jupyter-widgets/controls",
            "_model_module_version": "1.5.0",
            "_model_name": "ButtonStyleModel",
            "_view_count": null,
            "_view_module": "@jupyter-widgets/base",
            "_view_module_version": "1.2.0",
            "_view_name": "StyleView",
            "button_color": null,
            "font_weight": ""
          }
        },
        "4253e79a433344adb5b721c725c1a68e": {
          "model_module": "@jupyter-widgets/base",
          "model_name": "LayoutModel",
          "model_module_version": "1.2.0",
          "state": {
            "_model_module": "@jupyter-widgets/base",
            "_model_module_version": "1.2.0",
            "_model_name": "LayoutModel",
            "_view_count": null,
            "_view_module": "@jupyter-widgets/base",
            "_view_module_version": "1.2.0",
            "_view_name": "LayoutView",
            "align_content": null,
            "align_items": null,
            "align_self": null,
            "border": null,
            "bottom": null,
            "display": null,
            "flex": null,
            "flex_flow": null,
            "grid_area": null,
            "grid_auto_columns": null,
            "grid_auto_flow": null,
            "grid_auto_rows": null,
            "grid_column": null,
            "grid_gap": null,
            "grid_row": null,
            "grid_template_areas": null,
            "grid_template_columns": null,
            "grid_template_rows": null,
            "height": null,
            "justify_content": null,
            "justify_items": null,
            "left": null,
            "margin": null,
            "max_height": null,
            "max_width": null,
            "min_height": null,
            "min_width": null,
            "object_fit": null,
            "object_position": null,
            "order": null,
            "overflow": null,
            "overflow_x": null,
            "overflow_y": null,
            "padding": null,
            "right": null,
            "top": null,
            "visibility": null,
            "width": null
          }
        },
        "20a61003b60847148ba2d0842c4f0de7": {
          "model_module": "@jupyter-widgets/controls",
          "model_name": "ButtonStyleModel",
          "model_module_version": "1.5.0",
          "state": {
            "_model_module": "@jupyter-widgets/controls",
            "_model_module_version": "1.5.0",
            "_model_name": "ButtonStyleModel",
            "_view_count": null,
            "_view_module": "@jupyter-widgets/base",
            "_view_module_version": "1.2.0",
            "_view_name": "StyleView",
            "button_color": null,
            "font_weight": ""
          }
        },
        "4f9d18462cab418fad693d9c7e405712": {
          "model_module": "@jupyter-widgets/base",
          "model_name": "LayoutModel",
          "model_module_version": "1.2.0",
          "state": {
            "_model_module": "@jupyter-widgets/base",
            "_model_module_version": "1.2.0",
            "_model_name": "LayoutModel",
            "_view_count": null,
            "_view_module": "@jupyter-widgets/base",
            "_view_module_version": "1.2.0",
            "_view_name": "LayoutView",
            "align_content": null,
            "align_items": null,
            "align_self": null,
            "border": null,
            "bottom": null,
            "display": null,
            "flex": null,
            "flex_flow": null,
            "grid_area": null,
            "grid_auto_columns": null,
            "grid_auto_flow": null,
            "grid_auto_rows": null,
            "grid_column": null,
            "grid_gap": null,
            "grid_row": null,
            "grid_template_areas": null,
            "grid_template_columns": null,
            "grid_template_rows": null,
            "height": null,
            "justify_content": null,
            "justify_items": null,
            "left": null,
            "margin": null,
            "max_height": null,
            "max_width": null,
            "min_height": null,
            "min_width": null,
            "object_fit": null,
            "object_position": null,
            "order": null,
            "overflow": null,
            "overflow_x": null,
            "overflow_y": null,
            "padding": null,
            "right": null,
            "top": null,
            "visibility": null,
            "width": null
          }
        },
        "f13d3cad53044588a88f732985acf3bd": {
          "model_module": "@jupyter-widgets/controls",
          "model_name": "ButtonStyleModel",
          "model_module_version": "1.5.0",
          "state": {
            "_model_module": "@jupyter-widgets/controls",
            "_model_module_version": "1.5.0",
            "_model_name": "ButtonStyleModel",
            "_view_count": null,
            "_view_module": "@jupyter-widgets/base",
            "_view_module_version": "1.2.0",
            "_view_name": "StyleView",
            "button_color": null,
            "font_weight": ""
          }
        },
        "8605e04ad51741c08c080f350d7a13dd": {
          "model_module": "@jupyter-widgets/output",
          "model_name": "OutputModel",
          "model_module_version": "1.0.0",
          "state": {
            "_dom_classes": [],
            "_model_module": "@jupyter-widgets/output",
            "_model_module_version": "1.0.0",
            "_model_name": "OutputModel",
            "_view_count": null,
            "_view_module": "@jupyter-widgets/output",
            "_view_module_version": "1.0.0",
            "_view_name": "OutputView",
            "layout": "IPY_MODEL_a29af9b0128b4c3b8d6ee1b915b1b18b",
            "msg_id": "",
            "outputs": [
              {
                "output_type": "display_data",
                "data": {
                  "text/plain": "<IPython.core.display.HTML object>",
                  "text/html": "\n     <input type=\"file\" id=\"files-3df651ee-9205-4da5-b4db-0048d0d880d1\" name=\"files[]\" multiple disabled\n        style=\"border:none\" />\n     <output id=\"result-3df651ee-9205-4da5-b4db-0048d0d880d1\">\n      Upload widget is only available when the cell has been executed in the\n      current browser session. Please rerun this cell to enable.\n      </output>\n      <script>// Copyright 2017 Google LLC\n//\n// Licensed under the Apache License, Version 2.0 (the \"License\");\n// you may not use this file except in compliance with the License.\n// You may obtain a copy of the License at\n//\n//      http://www.apache.org/licenses/LICENSE-2.0\n//\n// Unless required by applicable law or agreed to in writing, software\n// distributed under the License is distributed on an \"AS IS\" BASIS,\n// WITHOUT WARRANTIES OR CONDITIONS OF ANY KIND, either express or implied.\n// See the License for the specific language governing permissions and\n// limitations under the License.\n\n/**\n * @fileoverview Helpers for google.colab Python module.\n */\n(function(scope) {\nfunction span(text, styleAttributes = {}) {\n  const element = document.createElement('span');\n  element.textContent = text;\n  for (const key of Object.keys(styleAttributes)) {\n    element.style[key] = styleAttributes[key];\n  }\n  return element;\n}\n\n// Max number of bytes which will be uploaded at a time.\nconst MAX_PAYLOAD_SIZE = 100 * 1024;\n\nfunction _uploadFiles(inputId, outputId) {\n  const steps = uploadFilesStep(inputId, outputId);\n  const outputElement = document.getElementById(outputId);\n  // Cache steps on the outputElement to make it available for the next call\n  // to uploadFilesContinue from Python.\n  outputElement.steps = steps;\n\n  return _uploadFilesContinue(outputId);\n}\n\n// This is roughly an async generator (not supported in the browser yet),\n// where there are multiple asynchronous steps and the Python side is going\n// to poll for completion of each step.\n// This uses a Promise to block the python side on completion of each step,\n// then passes the result of the previous step as the input to the next step.\nfunction _uploadFilesContinue(outputId) {\n  const outputElement = document.getElementById(outputId);\n  const steps = outputElement.steps;\n\n  const next = steps.next(outputElement.lastPromiseValue);\n  return Promise.resolve(next.value.promise).then((value) => {\n    // Cache the last promise value to make it available to the next\n    // step of the generator.\n    outputElement.lastPromiseValue = value;\n    return next.value.response;\n  });\n}\n\n/**\n * Generator function which is called between each async step of the upload\n * process.\n * @param {string} inputId Element ID of the input file picker element.\n * @param {string} outputId Element ID of the output display.\n * @return {!Iterable<!Object>} Iterable of next steps.\n */\nfunction* uploadFilesStep(inputId, outputId) {\n  const inputElement = document.getElementById(inputId);\n  inputElement.disabled = false;\n\n  const outputElement = document.getElementById(outputId);\n  outputElement.innerHTML = '';\n\n  const pickedPromise = new Promise((resolve) => {\n    inputElement.addEventListener('change', (e) => {\n      resolve(e.target.files);\n    });\n  });\n\n  const cancel = document.createElement('button');\n  inputElement.parentElement.appendChild(cancel);\n  cancel.textContent = 'Cancel upload';\n  const cancelPromise = new Promise((resolve) => {\n    cancel.onclick = () => {\n      resolve(null);\n    };\n  });\n\n  // Wait for the user to pick the files.\n  const files = yield {\n    promise: Promise.race([pickedPromise, cancelPromise]),\n    response: {\n      action: 'starting',\n    }\n  };\n\n  cancel.remove();\n\n  // Disable the input element since further picks are not allowed.\n  inputElement.disabled = true;\n\n  if (!files) {\n    return {\n      response: {\n        action: 'complete',\n      }\n    };\n  }\n\n  for (const file of files) {\n    const li = document.createElement('li');\n    li.append(span(file.name, {fontWeight: 'bold'}));\n    li.append(span(\n        `(${file.type || 'n/a'}) - ${file.size} bytes, ` +\n        `last modified: ${\n            file.lastModifiedDate ? file.lastModifiedDate.toLocaleDateString() :\n                                    'n/a'} - `));\n    const percent = span('0% done');\n    li.appendChild(percent);\n\n    outputElement.appendChild(li);\n\n    const fileDataPromise = new Promise((resolve) => {\n      const reader = new FileReader();\n      reader.onload = (e) => {\n        resolve(e.target.result);\n      };\n      reader.readAsArrayBuffer(file);\n    });\n    // Wait for the data to be ready.\n    let fileData = yield {\n      promise: fileDataPromise,\n      response: {\n        action: 'continue',\n      }\n    };\n\n    // Use a chunked sending to avoid message size limits. See b/62115660.\n    let position = 0;\n    do {\n      const length = Math.min(fileData.byteLength - position, MAX_PAYLOAD_SIZE);\n      const chunk = new Uint8Array(fileData, position, length);\n      position += length;\n\n      const base64 = btoa(String.fromCharCode.apply(null, chunk));\n      yield {\n        response: {\n          action: 'append',\n          file: file.name,\n          data: base64,\n        },\n      };\n\n      let percentDone = fileData.byteLength === 0 ?\n          100 :\n          Math.round((position / fileData.byteLength) * 100);\n      percent.textContent = `${percentDone}% done`;\n\n    } while (position < fileData.byteLength);\n  }\n\n  // All done.\n  yield {\n    response: {\n      action: 'complete',\n    }\n  };\n}\n\nscope.google = scope.google || {};\nscope.google.colab = scope.google.colab || {};\nscope.google.colab._files = {\n  _uploadFiles,\n  _uploadFilesContinue,\n};\n})(self);\n</script> "
                },
                "metadata": {}
              },
              {
                "output_type": "stream",
                "name": "stdout",
                "text": [
                  "Saving Sam (3).png to Sam (3).png\n",
                  "Uploaded file \"Sam (3).png\" of 23349 bytes\n"
                ]
              }
            ]
          }
        },
        "a29af9b0128b4c3b8d6ee1b915b1b18b": {
          "model_module": "@jupyter-widgets/base",
          "model_name": "LayoutModel",
          "model_module_version": "1.2.0",
          "state": {
            "_model_module": "@jupyter-widgets/base",
            "_model_module_version": "1.2.0",
            "_model_name": "LayoutModel",
            "_view_count": null,
            "_view_module": "@jupyter-widgets/base",
            "_view_module_version": "1.2.0",
            "_view_name": "LayoutView",
            "align_content": null,
            "align_items": null,
            "align_self": null,
            "border": null,
            "bottom": null,
            "display": null,
            "flex": null,
            "flex_flow": null,
            "grid_area": null,
            "grid_auto_columns": null,
            "grid_auto_flow": null,
            "grid_auto_rows": null,
            "grid_column": null,
            "grid_gap": null,
            "grid_row": null,
            "grid_template_areas": null,
            "grid_template_columns": null,
            "grid_template_rows": null,
            "height": null,
            "justify_content": null,
            "justify_items": null,
            "left": null,
            "margin": null,
            "max_height": null,
            "max_width": null,
            "min_height": null,
            "min_width": null,
            "object_fit": null,
            "object_position": null,
            "order": null,
            "overflow": null,
            "overflow_x": null,
            "overflow_y": null,
            "padding": null,
            "right": null,
            "top": null,
            "visibility": null,
            "width": null
          }
        }
      }
    },
    "accelerator": "GPU"
  },
  "cells": [
    {
      "cell_type": "markdown",
      "metadata": {
        "id": "qu-6Hs6LiLu5"
      },
      "source": [
        "# **Custom Generative Inpainting with Occlusion Prediction - Adobe Gensolve Team SSNCE**\n",
        "\n",
        "## Overview\n",
        "\n",
        "We have developed a customized image inpainting solution using advanced generative techniques inspired by the work of Yu et al. (2018). Our approach is built upon the foundational principles of the DeepFillv2 model, which leverages contextual attention for image inpainting.\n",
        "\n",
        "### Original Work\n",
        "\n",
        "**Generative Image Inpainting with Contextual Attention**\n",
        "- **Authors:** Yu, Jiahui; Lin, Zhe; Yang, Jimei; Shen, Xiaohui; Lu, Xin; Huang, Thomas S\n",
        "- **Year:** 2018\n",
        "- **Link:** [Original Paper](https://arxiv.org/abs/1801.07892)\n",
        "\n",
        "**Free-Form Image Inpainting with Gated Convolution**\n",
        "- **Authors:** Yu, Jiahui; Lin, Zhe; Yang, Jimei; Shen, Xiaohui; Lu, Xin; Huang, Thomas S\n",
        "- **Year:** 2018\n",
        "- **Link:** [Original Paper](https://arxiv.org/abs/1806.03589)\n",
        "\n",
        "We acknowledge and appreciate the foundational contributions of these authors, which have significantly influenced our work.\n",
        "\n",
        "## Custom Approach\n",
        "\n",
        "### Modified Algorithm\n",
        "\n",
        "We have adapted the DeepFillv2 model to create a customized occlusion detection algorithm. Our modifications include:\n",
        "\n",
        "1. **Custom Occlusion Masks**:\n",
        "   - We generate recreational masks to predict what is behind occluded regions. These masks help in identifying areas that need inpainting based on both the input image and a reference image.\n",
        "\n",
        "2. **Image Resizing**:\n",
        "   - The model currently resizes images to 512x512 for processing. This can be adjusted using the `RESIZE_TO` parameter in the `_config.py` file to accommodate different image sizes.\n",
        "\n",
        "3. **Generative Inpainting**:\n",
        "   - Leveraging the generative inpainting techniques described in the original papers, our model fills in occluded areas using contextual information from the image and reference.\n",
        "\n",
        "### Implementation\n",
        "\n",
        "1. **Setup**:\n",
        "   - Clone the DeepFillv2 repository and download the pre-trained model.\n",
        "   - Note: The current Colab code does not support GPU acceleration. Update as needed.\n",
        "\n",
        "2. **Input Handling**:\n",
        "   - Upload two images: one to be occluded and another as a reference for inpainting.\n",
        "   - Generate or upload masks that define the occluded regions.\n",
        "\n",
        "3. **Inpainting Process**:\n",
        "   - Modify the inpainting script to use the reference image for filling occluded parts.\n",
        "   - Run the inpainting and review results.\n",
        "\n",
        "4. **Output Evaluation**:\n",
        "   - Compare the input image, reference image, and the inpainted output to evaluate performance.\n",
        "\n",
        "### Credits\n",
        "\n",
        "We are grateful for the work of Yu et al., which provided a robust base for our customizations. Their contributions to generative image inpainting with contextual attention have been instrumental in developing our approach.\n",
        "\n"
      ]
    },
    {
      "cell_type": "markdown",
      "metadata": {
        "id": "LYkw-f4Ej7MP"
      },
      "source": [
        "Context and Accuracy Enhancement\n",
        "Model Overview: DeepFillv2 utilizes advanced techniques such as contextual attention and gated convolution to fill in missing parts of images. The model is trained on images resized to 512x512 pixels to balance detail and computational efficiency.\n",
        "\n",
        "Why 512x512? The model expects input images of this size due to the training data and architecture constraints. This resolution provides a good compromise between detail and processing power, ensuring the model performs optimally without excessive computational load.\n",
        "\n",
        "Custom Modifications: We have included a custom bias in the model to improve its performance on specific types of occlusions. This modification helps the model better interpret masked regions and generate more accurate inpainting results.\n",
        "\n",
        "Accuracy Considerations: For enhanced accuracy, consider experimenting with different resizing parameters and mask types. While 512x512 is standard, other sizes may offer better results depending on your specific use case. Additionally, ensure that the input images and masks are carefully prepared to match the model's expected input format.\n",
        "\n",
        "By following these setup instructions and understanding the context, you can effectively use the DeepFillv2 model for high-quality image inpainting."
      ]
    },
    {
      "cell_type": "code",
      "metadata": {
        "id": "d3EwRK4SNnKL",
        "colab": {
          "base_uri": "https://localhost:8080/"
        },
        "outputId": "2e2a2c0a-0371-4c3a-9daa-9684a74e0b34"
      },
      "source": [
        "#@title Run this cell for setup { display-mode: \"form\"}\n",
        "!git clone https://github.com/vrindaprabhu/deepfillv2_colab.git\n",
        "!gdown \"https://drive.google.com/u/0/uc?id=1uMghKl883-9hDLhSiI8lRbHCzCmmRwV-&export=download\"\n",
        "!mv /content/deepfillv2_WGAN_G_epoch40_batchsize4.pth deepfillv2_colab/model/deepfillv2_WGAN.pth"
      ],
      "execution_count": null,
      "outputs": [
        {
          "output_type": "stream",
          "name": "stdout",
          "text": [
            "Cloning into 'deepfillv2_colab'...\n",
            "remote: Enumerating objects: 99, done.\u001b[K\n",
            "remote: Counting objects: 100% (3/3), done.\u001b[K\n",
            "remote: Compressing objects: 100% (2/2), done.\u001b[K\n",
            "remote: Total 99 (delta 2), reused 1 (delta 1), pack-reused 96\u001b[K\n",
            "Receiving objects: 100% (99/99), 571.56 KiB | 16.81 MiB/s, done.\n",
            "Resolving deltas: 100% (44/44), done.\n",
            "Downloading...\n",
            "From: https://drive.google.com/u/0/uc?id=1uMghKl883-9hDLhSiI8lRbHCzCmmRwV-&export=download\n",
            "To: /content/deepfillv2_WGAN_G_epoch40_batchsize4.pth\n",
            "100% 64.8M/64.8M [00:02<00:00, 23.1MB/s]\n"
          ]
        }
      ]
    },
    {
      "cell_type": "markdown",
      "metadata": {
        "id": "AqcZntGDkdzQ"
      },
      "source": [
        "**Change to the code directory**"
      ]
    },
    {
      "cell_type": "code",
      "metadata": {
        "colab": {
          "base_uri": "https://localhost:8080/"
        },
        "id": "S2SVT2zyXkRs",
        "collapsed": true,
        "outputId": "738a6117-2a1b-4844-fb67-57976c9fe14b"
      },
      "source": [
        "cd deepfillv2_colab"
      ],
      "execution_count": null,
      "outputs": [
        {
          "output_type": "stream",
          "name": "stdout",
          "text": [
            "/content/deepfillv2_colab\n"
          ]
        }
      ]
    },
    {
      "cell_type": "markdown",
      "metadata": {
        "id": "tnuR-nMVkj9x"
      },
      "source": [
        "## **INPUTS AND MASKS**\n",
        "\n",
        "This section is used to provide input images and create or upload masks for the inpainting process. Accurate input and mask files are crucial for obtaining desirable results.\n",
        "\n",
        "### **How It Works:**\n",
        "\n",
        "1. **Upload Input Image:**\n",
        "   - The input image is the source image that contains the occlusion or missing parts you want to fill in. Ensure that the image is correctly uploaded and in the proper format.\n",
        "\n",
        "2. **Create/Upload Masks:**\n",
        "   - **Masks** define the regions of the input image that need inpainting. They can be created or uploaded using the following methods:\n",
        "     - **Random Free-Form Mask:** Generates a mask with irregular shapes to simulate real-world occlusions.\n",
        "     - **Random Bounding Box Mask:** Creates a rectangular mask to cover a specific area, ideal for simple occlusions.\n",
        "\n",
        "3. **Occlusion Handling:**\n",
        "   - The quality of the inpainting heavily relies on how well the occluded areas are defined by the masks. Proper mask creation ensures that the model can accurately interpret which parts of the image require filling.\n",
        "   - **Mask Precision:** Ensure masks align precisely with the occluded regions. Misalignment or incorrect mask shapes can lead to poor inpainting results, where the filled areas may not blend seamlessly with the rest of the image.\n",
        "\n",
        "### **Important Notes:**\n",
        "- **Example Files:** Example images and masks are available in the `examples` folder. Use these as references to understand the format and expected quality of input images and masks.\n",
        "- **Accuracy Tips:** For best results, use high-quality images and carefully define the occluded areas. Avoid overly large or small masks that could affect the model's ability to generate coherent inpainting results.\n",
        "\n",
        "By providing accurate input images and well-defined masks, you ensure that the inpainting process yields the best possible outcomes.\n",
        "\n"
      ]
    },
    {
      "cell_type": "code",
      "metadata": {
        "colab": {
          "base_uri": "https://localhost:8080/",
          "height": 300,
          "referenced_widgets": [
            "4aefa0f23666408c9aa567200a4c099e",
            "eb702acf9b9646ee88e2aa20f08765a0",
            "f883a5484f1f4e60b938c9ab66679371",
            "38962a31bb6748d98dee84f59646e982",
            "17e56e8ffd4a43aaa6c11b45303b4218",
            "549d38d0184d47048763191f442c241e",
            "7a0bceea8155434c8133f0d2fce01b61",
            "4253e79a433344adb5b721c725c1a68e",
            "20a61003b60847148ba2d0842c4f0de7",
            "4f9d18462cab418fad693d9c7e405712",
            "f13d3cad53044588a88f732985acf3bd",
            "8605e04ad51741c08c080f350d7a13dd",
            "a29af9b0128b4c3b8d6ee1b915b1b18b"
          ]
        },
        "id": "km1tWV0z6W1z",
        "outputId": "51f03be8-899c-4c05-c69f-0ac763f8f415"
      },
      "source": [
        "#@title Run to upload the input image and generate/upload masks{ display-mode: \"form\" }\n",
        "from google.colab import files\n",
        "from ipywidgets import Button, HBox, VBox, widgets\n",
        "from IPython.display import display, clear_output\n",
        "import shutil\n",
        "\n",
        "\n",
        "from create_mask import create_bbox_mask, create_ff_mask\n",
        "\n",
        "\n",
        "class StopExecution(Exception):\n",
        "    def _render_traceback_(self):\n",
        "        pass\n",
        "\n",
        "\n",
        "def upload_file():\n",
        "    uploaded = files.upload()\n",
        "    try:\n",
        "        fn = list(uploaded.keys())[0]\n",
        "    except:\n",
        "        print (\"Please upload a valid image file!\")\n",
        "        raise StopExecution\n",
        "    print('Uploaded file \"{name}\" of {length} bytes'.format(name=fn,length=len(uploaded[fn])))\n",
        "    return fn\n",
        "\n",
        "\n",
        "\n",
        "def on_button_clicked(b):\n",
        "    with output:\n",
        "        if b.description == \"upload\":\n",
        "            clear_output()\n",
        "            fn = upload_file()\n",
        "            shutil.move(fn, \"./input/mask.png\")\n",
        "\n",
        "        if b.description == 'random free-form':\n",
        "            create_ff_mask()\n",
        "            clear_output()\n",
        "            print(\"random free form mask created and saved in input folder\")\n",
        "\n",
        "        if b.description == 'random bbox':\n",
        "            create_bbox_mask()\n",
        "            clear_output()\n",
        "            print(\"random bounding box mask created and saved in input folder\")\n",
        "\n",
        "    print (\"\")\n",
        "    print (\"\")\n",
        "    print (\"PLEASE RUN THE NEXT CELL\")\n",
        "\n",
        "\n",
        "print (\"UPLOAD INPUT FILE\")\n",
        "fn = upload_file()\n",
        "shutil.move(fn, \"./input/input_img.png\")\n",
        "\n",
        "output = widgets.Output()\n",
        "print (\"\")\n",
        "print (\"\")\n",
        "print (\"SELECT MASK TYPE TO INPAINT\")\n",
        "words = ['random free-form', 'random bbox', 'upload']\n",
        "items = [Button(description=w) for w in words]\n",
        "display(HBox([items[0], items[1], items[2]]), output)\n",
        "\n",
        "items[0].on_click(on_button_clicked)\n",
        "items[1].on_click(on_button_clicked)\n",
        "items[2].on_click(on_button_clicked)"
      ],
      "execution_count": null,
      "outputs": [
        {
          "output_type": "stream",
          "name": "stdout",
          "text": [
            "UPLOAD INPUT FILE\n"
          ]
        },
        {
          "output_type": "display_data",
          "data": {
            "text/plain": [
              "<IPython.core.display.HTML object>"
            ],
            "text/html": [
              "\n",
              "     <input type=\"file\" id=\"files-a187d333-c3ad-4f29-8a04-35f289077325\" name=\"files[]\" multiple disabled\n",
              "        style=\"border:none\" />\n",
              "     <output id=\"result-a187d333-c3ad-4f29-8a04-35f289077325\">\n",
              "      Upload widget is only available when the cell has been executed in the\n",
              "      current browser session. Please rerun this cell to enable.\n",
              "      </output>\n",
              "      <script>// Copyright 2017 Google LLC\n",
              "//\n",
              "// Licensed under the Apache License, Version 2.0 (the \"License\");\n",
              "// you may not use this file except in compliance with the License.\n",
              "// You may obtain a copy of the License at\n",
              "//\n",
              "//      http://www.apache.org/licenses/LICENSE-2.0\n",
              "//\n",
              "// Unless required by applicable law or agreed to in writing, software\n",
              "// distributed under the License is distributed on an \"AS IS\" BASIS,\n",
              "// WITHOUT WARRANTIES OR CONDITIONS OF ANY KIND, either express or implied.\n",
              "// See the License for the specific language governing permissions and\n",
              "// limitations under the License.\n",
              "\n",
              "/**\n",
              " * @fileoverview Helpers for google.colab Python module.\n",
              " */\n",
              "(function(scope) {\n",
              "function span(text, styleAttributes = {}) {\n",
              "  const element = document.createElement('span');\n",
              "  element.textContent = text;\n",
              "  for (const key of Object.keys(styleAttributes)) {\n",
              "    element.style[key] = styleAttributes[key];\n",
              "  }\n",
              "  return element;\n",
              "}\n",
              "\n",
              "// Max number of bytes which will be uploaded at a time.\n",
              "const MAX_PAYLOAD_SIZE = 100 * 1024;\n",
              "\n",
              "function _uploadFiles(inputId, outputId) {\n",
              "  const steps = uploadFilesStep(inputId, outputId);\n",
              "  const outputElement = document.getElementById(outputId);\n",
              "  // Cache steps on the outputElement to make it available for the next call\n",
              "  // to uploadFilesContinue from Python.\n",
              "  outputElement.steps = steps;\n",
              "\n",
              "  return _uploadFilesContinue(outputId);\n",
              "}\n",
              "\n",
              "// This is roughly an async generator (not supported in the browser yet),\n",
              "// where there are multiple asynchronous steps and the Python side is going\n",
              "// to poll for completion of each step.\n",
              "// This uses a Promise to block the python side on completion of each step,\n",
              "// then passes the result of the previous step as the input to the next step.\n",
              "function _uploadFilesContinue(outputId) {\n",
              "  const outputElement = document.getElementById(outputId);\n",
              "  const steps = outputElement.steps;\n",
              "\n",
              "  const next = steps.next(outputElement.lastPromiseValue);\n",
              "  return Promise.resolve(next.value.promise).then((value) => {\n",
              "    // Cache the last promise value to make it available to the next\n",
              "    // step of the generator.\n",
              "    outputElement.lastPromiseValue = value;\n",
              "    return next.value.response;\n",
              "  });\n",
              "}\n",
              "\n",
              "/**\n",
              " * Generator function which is called between each async step of the upload\n",
              " * process.\n",
              " * @param {string} inputId Element ID of the input file picker element.\n",
              " * @param {string} outputId Element ID of the output display.\n",
              " * @return {!Iterable<!Object>} Iterable of next steps.\n",
              " */\n",
              "function* uploadFilesStep(inputId, outputId) {\n",
              "  const inputElement = document.getElementById(inputId);\n",
              "  inputElement.disabled = false;\n",
              "\n",
              "  const outputElement = document.getElementById(outputId);\n",
              "  outputElement.innerHTML = '';\n",
              "\n",
              "  const pickedPromise = new Promise((resolve) => {\n",
              "    inputElement.addEventListener('change', (e) => {\n",
              "      resolve(e.target.files);\n",
              "    });\n",
              "  });\n",
              "\n",
              "  const cancel = document.createElement('button');\n",
              "  inputElement.parentElement.appendChild(cancel);\n",
              "  cancel.textContent = 'Cancel upload';\n",
              "  const cancelPromise = new Promise((resolve) => {\n",
              "    cancel.onclick = () => {\n",
              "      resolve(null);\n",
              "    };\n",
              "  });\n",
              "\n",
              "  // Wait for the user to pick the files.\n",
              "  const files = yield {\n",
              "    promise: Promise.race([pickedPromise, cancelPromise]),\n",
              "    response: {\n",
              "      action: 'starting',\n",
              "    }\n",
              "  };\n",
              "\n",
              "  cancel.remove();\n",
              "\n",
              "  // Disable the input element since further picks are not allowed.\n",
              "  inputElement.disabled = true;\n",
              "\n",
              "  if (!files) {\n",
              "    return {\n",
              "      response: {\n",
              "        action: 'complete',\n",
              "      }\n",
              "    };\n",
              "  }\n",
              "\n",
              "  for (const file of files) {\n",
              "    const li = document.createElement('li');\n",
              "    li.append(span(file.name, {fontWeight: 'bold'}));\n",
              "    li.append(span(\n",
              "        `(${file.type || 'n/a'}) - ${file.size} bytes, ` +\n",
              "        `last modified: ${\n",
              "            file.lastModifiedDate ? file.lastModifiedDate.toLocaleDateString() :\n",
              "                                    'n/a'} - `));\n",
              "    const percent = span('0% done');\n",
              "    li.appendChild(percent);\n",
              "\n",
              "    outputElement.appendChild(li);\n",
              "\n",
              "    const fileDataPromise = new Promise((resolve) => {\n",
              "      const reader = new FileReader();\n",
              "      reader.onload = (e) => {\n",
              "        resolve(e.target.result);\n",
              "      };\n",
              "      reader.readAsArrayBuffer(file);\n",
              "    });\n",
              "    // Wait for the data to be ready.\n",
              "    let fileData = yield {\n",
              "      promise: fileDataPromise,\n",
              "      response: {\n",
              "        action: 'continue',\n",
              "      }\n",
              "    };\n",
              "\n",
              "    // Use a chunked sending to avoid message size limits. See b/62115660.\n",
              "    let position = 0;\n",
              "    do {\n",
              "      const length = Math.min(fileData.byteLength - position, MAX_PAYLOAD_SIZE);\n",
              "      const chunk = new Uint8Array(fileData, position, length);\n",
              "      position += length;\n",
              "\n",
              "      const base64 = btoa(String.fromCharCode.apply(null, chunk));\n",
              "      yield {\n",
              "        response: {\n",
              "          action: 'append',\n",
              "          file: file.name,\n",
              "          data: base64,\n",
              "        },\n",
              "      };\n",
              "\n",
              "      let percentDone = fileData.byteLength === 0 ?\n",
              "          100 :\n",
              "          Math.round((position / fileData.byteLength) * 100);\n",
              "      percent.textContent = `${percentDone}% done`;\n",
              "\n",
              "    } while (position < fileData.byteLength);\n",
              "  }\n",
              "\n",
              "  // All done.\n",
              "  yield {\n",
              "    response: {\n",
              "      action: 'complete',\n",
              "    }\n",
              "  };\n",
              "}\n",
              "\n",
              "scope.google = scope.google || {};\n",
              "scope.google.colab = scope.google.colab || {};\n",
              "scope.google.colab._files = {\n",
              "  _uploadFiles,\n",
              "  _uploadFilesContinue,\n",
              "};\n",
              "})(self);\n",
              "</script> "
            ]
          },
          "metadata": {}
        },
        {
          "output_type": "stream",
          "name": "stdout",
          "text": [
            "Saving Sam (2).png to Sam (2).png\n",
            "Uploaded file \"Sam (2).png\" of 35254 bytes\n",
            "\n",
            "\n",
            "SELECT MASK TYPE TO INPAINT\n"
          ]
        },
        {
          "output_type": "display_data",
          "data": {
            "text/plain": [
              "HBox(children=(Button(description='random free-form', style=ButtonStyle()), Button(description='random bbox', …"
            ],
            "application/vnd.jupyter.widget-view+json": {
              "version_major": 2,
              "version_minor": 0,
              "model_id": "4aefa0f23666408c9aa567200a4c099e"
            }
          },
          "metadata": {}
        },
        {
          "output_type": "display_data",
          "data": {
            "text/plain": [
              "Output()"
            ],
            "application/vnd.jupyter.widget-view+json": {
              "version_major": 2,
              "version_minor": 0,
              "model_id": "8605e04ad51741c08c080f350d7a13dd"
            }
          },
          "metadata": {}
        },
        {
          "output_type": "stream",
          "name": "stdout",
          "text": [
            "\n",
            "\n",
            "PLEASE RUN THE NEXT CELL\n"
          ]
        }
      ]
    },
    {
      "cell_type": "markdown",
      "metadata": {
        "id": "XHW4sKyWlJPV"
      },
      "source": [
        "Run Generation code given below"
      ]
    },
    {
      "cell_type": "code",
      "metadata": {
        "colab": {
          "base_uri": "https://localhost:8080/"
        },
        "id": "AwDhcXddH8I7",
        "outputId": "2019fde2-9da8-43f5-aef0-e5709cb6dc88"
      },
      "source": [
        "#@title Run to trigger inpainting. { display-mode: \"form\" }\n",
        "!python inpaint.py"
      ],
      "execution_count": null,
      "outputs": [
        {
          "output_type": "stream",
          "name": "stdout",
          "text": [
            "-- Generator is created! --\n",
            "-- Initialized generator with xavier type --\n",
            "-- INPAINT: Loading Pretrained Model --\n",
            "/usr/local/lib/python3.10/dist-packages/torch/utils/data/dataloader.py:558: UserWarning: This DataLoader will create 8 worker processes in total. Our suggested max number of worker in current system is 2, which is smaller than what this DataLoader is going to create. Please be aware that excessive worker creation might get DataLoader running slow or even freeze, lower the worker number to avoid potential slowness/freeze if necessary.\n",
            "  warnings.warn(_create_warning_msg(\n",
            "-- Inpainting is finished --\n"
          ]
        }
      ]
    },
    {
      "cell_type": "markdown",
      "metadata": {
        "id": "CsYmz6OdlO0H"
      },
      "source": [
        "Compare outputs , record them in your local"
      ]
    },
    {
      "cell_type": "code",
      "metadata": {
        "colab": {
          "base_uri": "https://localhost:8080/",
          "height": 604
        },
        "id": "j2eFN56JZwxy",
        "outputId": "c01e9674-f8ef-46f1-ca02-79eb7bab4ada"
      },
      "source": [
        "#@title Run to check the output.{ display-mode: \"form\" }\n",
        "import cv2\n",
        "import matplotlib.pyplot as plt\n",
        "\n",
        "resize_size = (512,512)\n",
        "\n",
        "input_image = cv2.imread(\"input/input_img.png\")\n",
        "output_image = cv2.imread(\"output/inpainted_img.png\")\n",
        "\n",
        "f, axarr = plt.subplots(1,2, figsize=(15,15))\n",
        "axarr[0].imshow(cv2.resize(input_image, resize_size))\n",
        "axarr[0].title.set_text('Actual Input')\n",
        "axarr[0].axis('off')\n",
        "\n",
        "axarr[1].imshow(cv2.resize(output_image, resize_size))\n",
        "axarr[1].title.set_text('Inpainted Output')\n",
        "axarr[1].axis('off')\n"
      ],
      "execution_count": null,
      "outputs": [
        {
          "output_type": "execute_result",
          "data": {
            "text/plain": [
              "(-0.5, 511.5, 511.5, -0.5)"
            ]
          },
          "metadata": {},
          "execution_count": 43
        },
        {
          "output_type": "display_data",
          "data": {
            "text/plain": [
              "<Figure size 1500x1500 with 2 Axes>"
            ],
            "image/png": "[encoded data removed]"
          },
          "metadata": {}
        }
      ]
    },
    {
      "cell_type": "markdown",
      "metadata": {
        "id": "YP-TmTXYllOl"
      },
      "source": [
        "Upload new images and run the trigger cell to observe outputs on different images :)"
      ]
    },
    {
      "cell_type": "code",
      "metadata": {
        "id": "SwJvgfvsniu5"
      },
      "source": [],
      "execution_count": null,
      "outputs": []
    }
  ]
}